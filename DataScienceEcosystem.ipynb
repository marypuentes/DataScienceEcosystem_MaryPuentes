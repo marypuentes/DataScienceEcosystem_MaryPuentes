{
 "cells": [
  {
   "cell_type": "markdown",
   "id": "b2da8915-ba8f-42e8-bcff-6d2deccea67b",
   "metadata": {},
   "source": [
    "# Data Science Tools and Ecosystem "
   ]
  },
  {
   "cell_type": "markdown",
   "id": "77e20cc3-f362-4d82-9064-2c48cdf551d2",
   "metadata": {},
   "source": [
    "#### In this notebook, Data Science Tools and Ecosystem are summarized."
   ]
  },
  {
   "cell_type": "markdown",
   "id": "22572331-1f79-4238-b1a7-ea55e273695f",
   "metadata": {},
   "source": [
    "### **Objectives:**\n",
    "In this notebook we will mention:\n",
    "\n",
    "* Some of the popular languages that Data Scientists\n",
    "* Some of the commonly used libraries used by Data Scientists\n",
    "* Some Data Science Tools\n",
    "* examples of evaluating arithmetic expressions in Python"
   ]
  },
  {
   "cell_type": "markdown",
   "id": "57c66e7b-f4b6-4a73-a4ee-8734c630f74d",
   "metadata": {},
   "source": [
    "### Some of the popular languages that Data Scientists use are:\n",
    "\n",
    "* Python\n",
    "* R\n",
    "* SQL"
   ]
  },
  {
   "cell_type": "markdown",
   "id": "588df317-dfdf-4426-84cd-aa70cc3eb43e",
   "metadata": {},
   "source": [
    "### Some of the commonly used libraries used by Data Scientists include:\n",
    "\n",
    "* Pandas\n",
    "* NumPy\n",
    "* Matplotlib\n",
    "* Seaborn\n",
    "* Scikit-Learn\n",
    "* Keras\n",
    "* TensorFlow\n",
    "* PyTorch\n",
    "* Apache Spark"
   ]
  },
  {
   "cell_type": "markdown",
   "id": "0fc18e14-78d0-4330-b297-f117270ccaf5",
   "metadata": {},
   "source": [
    "### Some Data Science Tools Table \n",
    "\n",
    "| Data Science Tools |\n",
    "| -------------|\n",
    "| MySQL |\n",
    "| PostgreSQL |\n",
    "| MongoDB |\n",
    "| Apache CouchDB  |\n",
    "| Apache Cassandra  |\n",
    "| Hadoop |\n",
    "| Ceph |\n",
    "| Elasticsearch |\n",
    "| Apache AirFlow |\n",
    "| KubeFlow|\n",
    "| Kubernetes|\n",
    "| Apache Kafka|"
   ]
  },
  {
   "cell_type": "markdown",
   "id": "e07747f8-c162-4a5d-b156-e7a09103439e",
   "metadata": {},
   "source": [
    "### Below are a few examples of evaluating arithmetic expressions in Python "
   ]
  },
  {
   "cell_type": "code",
   "execution_count": 1,
   "id": "bf907685-8e14-47ee-97e6-6c86d8b8d4c1",
   "metadata": {
    "tags": []
   },
   "outputs": [
    {
     "data": {
      "text/plain": [
       "4"
      ]
     },
     "execution_count": 1,
     "metadata": {},
     "output_type": "execute_result"
    }
   ],
   "source": [
    "#### Addition operation\n",
    "2+2"
   ]
  },
  {
   "cell_type": "markdown",
   "id": "ed488aa3-c2b4-4800-aa9b-cf6f39e13346",
   "metadata": {
    "tags": []
   },
   "source": [
    "#### Multiplication operation\n",
    "2.5*3.5"
   ]
  },
  {
   "cell_type": "markdown",
   "id": "298d8535-3d3a-4a91-a060-857be1646d4c",
   "metadata": {
    "tags": []
   },
   "source": [
    "### p. ej  This a simple arithmetic expression to mutiply then add integers. "
   ]
  },
  {
   "cell_type": "code",
   "execution_count": 3,
   "id": "c4b81be6-7a30-4234-9ae2-0b9e6274d0a6",
   "metadata": {
    "tags": []
   },
   "outputs": [
    {
     "data": {
      "text/plain": [
       "17"
      ]
     },
     "execution_count": 3,
     "metadata": {},
     "output_type": "execute_result"
    }
   ],
   "source": [
    "(3*4)+5"
   ]
  },
  {
   "cell_type": "markdown",
   "id": "6b9d9862-7c74-4d25-93c5-ba6a97f6dbb6",
   "metadata": {},
   "source": [
    "### p. ej  This will convert 200 minutes to hours by diving by 60."
   ]
  },
  {
   "cell_type": "code",
   "execution_count": 4,
   "id": "a53eebc4-7bd6-419d-8c36-ec8aa8c5c994",
   "metadata": {
    "tags": []
   },
   "outputs": [
    {
     "data": {
      "text/plain": [
       "3.3333333333333335"
      ]
     },
     "execution_count": 4,
     "metadata": {},
     "output_type": "execute_result"
    }
   ],
   "source": [
    "200/60"
   ]
  },
  {
   "cell_type": "markdown",
   "id": "0243bb72-b7cb-47c1-8f2b-1bfe09fda9e8",
   "metadata": {},
   "source": [
    "## Author \n",
    "Mary Puentes Amaya"
   ]
  },
  {
   "cell_type": "code",
   "execution_count": null,
   "id": "7118c91a-9514-47ee-b650-0f5a74559cf9",
   "metadata": {},
   "outputs": [],
   "source": []
  }
 ],
 "metadata": {
  "kernelspec": {
   "display_name": "Python",
   "language": "python",
   "name": "conda-env-python-py"
  },
  "language_info": {
   "codemirror_mode": {
    "name": "ipython",
    "version": 3
   },
   "file_extension": ".py",
   "mimetype": "text/x-python",
   "name": "python",
   "nbconvert_exporter": "python",
   "pygments_lexer": "ipython3",
   "version": "3.7.12"
  }
 },
 "nbformat": 4,
 "nbformat_minor": 5
}
